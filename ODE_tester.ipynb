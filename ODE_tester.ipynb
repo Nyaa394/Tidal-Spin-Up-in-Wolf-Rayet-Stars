{
 "cells": [
  {
   "cell_type": "code",
   "execution_count": null,
   "id": "8bf158ee",
   "metadata": {},
   "outputs": [],
   "source": [
    "# will test my ode solver here"
   ]
  }
 ],
 "metadata": {
  "language_info": {
   "name": "python"
  }
 },
 "nbformat": 4,
 "nbformat_minor": 5
}
