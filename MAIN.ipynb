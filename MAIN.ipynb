{
 "cells": [
  {
   "cell_type": "code",
   "execution_count": 1,
   "id": "c173dc60",
   "metadata": {},
   "outputs": [],
   "source": [
    "# find m1, m2, a0, k/Q so that Omegafinal >= 0.1*f_orb which is f/2 at tfinal"
   ]
  },
  {
   "cell_type": "code",
   "execution_count": null,
   "id": "e5b87654",
   "metadata": {},
   "outputs": [],
   "source": [
    "# important libs and constants\n",
    "import plot_utils as p\n",
    "import functions as fct\n",
    "import ODE_solver as odes \n",
    "import numpy as np\n",
    "G = 6.674e-11  # N*m^2/Kg^2\n",
    "Msolar = 1.989e30  # kg\n",
    "Rsolar = 6.957e8  # in m\n",
    "c = 299792458.0  # m/s"
   ]
  },
  {
   "cell_type": "code",
   "execution_count": null,
   "id": "ab6a71d2",
   "metadata": {},
   "outputs": [],
   "source": [
    "# parameters to vary\n",
    "m1 = 20*Msolar  # kg\n",
    "m2 = 20*Msolar  # kg\n",
    "k = 0.001\n",
    "Q = 1e4  # or 1e5\n",
    "q = m1/m2\n",
    "RWR1 = fct.radius_from_mass(m1/Msolar)  # in solar radii\n",
    "a_min = fct.min_separation(q, RWR1)  # in solar radii\n",
    "a_min_si = a_min*Rsolar  # in m"
   ]
  }
 ],
 "metadata": {
  "kernelspec": {
   "display_name": "Python 3",
   "language": "python",
   "name": "python3"
  },
  "language_info": {
   "codemirror_mode": {
    "name": "ipython",
    "version": 3
   },
   "file_extension": ".py",
   "mimetype": "text/x-python",
   "name": "python",
   "nbconvert_exporter": "python",
   "pygments_lexer": "ipython3",
   "version": "3.13.3"
  }
 },
 "nbformat": 4,
 "nbformat_minor": 5
}
